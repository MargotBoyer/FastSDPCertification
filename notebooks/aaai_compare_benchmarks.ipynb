{
 "cells": [
  {
   "cell_type": "markdown",
   "id": "359c27fc",
   "metadata": {},
   "source": [
    "# AAAI"
   ]
  },
  {
   "cell_type": "code",
   "execution_count": null,
   "id": "3dd2e29d",
   "metadata": {},
   "outputs": [],
   "source": [
    "import pandas as pd\n",
    "import numpy as np"
   ]
  },
  {
   "cell_type": "code",
   "execution_count": null,
   "id": "34540505",
   "metadata": {},
   "outputs": [],
   "source": [
    "without_actives = pd.read_csv('../results/benchmark/MLP-ADV-0.01/06_26_15h48_24s_Lan-with-actives-RLT=0.01/results.csv')\n",
    "with_actives = pd.read_csv('../results/benchmark/MLP-ADV-0.01/07_02_15h25_30s_with_actives_threads_4/results.csv')\n",
    "with_everything = pd.read_csv('../results/benchmark/MLP-ADV-0.01/07_02_15h23_55s_with_everything_threads_4/results.csv')\n",
    "\n",
    "without_actives[\"certified_target\"] = without_actives[\"optimal_value\"]>0\n",
    "with_actives[\"certified_target\"] = with_actives[\"optimal_value\"]>0\n",
    "with_everything[\"certified_target\"] = with_everything[\"optimal_value\"]>0"
   ]
  },
  {
   "cell_type": "code",
   "execution_count": null,
   "id": "a772d334",
   "metadata": {},
   "outputs": [],
   "source": [
    "prop_without_actives = without_actives.groupby(['label','data_index'])['certified_target'].mean().unstack().T\n",
    "display(prop_without_actives)\n",
    "print(\"WITHOUT ACTIVES : proportion of verified datas :\", prop_without_actives[prop_without_actives == 1].count(axis=1).sum()/100)"
   ]
  },
  {
   "cell_type": "code",
   "execution_count": null,
   "id": "f2d73021",
   "metadata": {},
   "outputs": [],
   "source": [
    "prop_with_actives = with_actives.groupby(['label','data_index'])['certified_target'].mean().unstack().T\n",
    "display(prop_with_actives)\n",
    "print(\"WITH ACTIVES : Proportion of verified datas :\", prop_with_actives[prop_with_actives == 1].count(axis=1).sum()/100)"
   ]
  },
  {
   "cell_type": "code",
   "execution_count": null,
   "id": "1e7e5ea6",
   "metadata": {},
   "outputs": [],
   "source": [
    "prop_with_everything = with_everything.groupby(['label','data_index'])['certified_target'].mean().unstack().T\n",
    "display(prop_with_everything)\n",
    "print(\"WITH EVERYTHING : Proportion of verified datas :\", prop_with_everything[prop_with_everything == 1].count(axis=1).sum()/100)"
   ]
  },
  {
   "cell_type": "code",
   "execution_count": null,
   "id": "16298d15",
   "metadata": {},
   "outputs": [],
   "source": [
    "\n",
    "tab1 = pd.read_csv('../results/benchmark/9x200-0.026/07_27_22h56_35s_SDP-IP-0-24/results.csv')\n",
    "tab12 = pd.read_csv('../results/benchmark/9x200-0.026/07_25_16h50_40s_SDP-IP-25-49/results.csv')\n",
    "tab2 = pd.read_csv('../results/benchmark/9x200-0.026/07_27_22h59_27s_SDP-IP-50-74/results.csv')\n",
    "tab3 = pd.read_csv('../results/benchmark/9x200-0.026/07_27_23h01_39s_SDP-IP-75-99/results.csv')\n",
    "tab34 = pd.read_csv('../results/benchmark/9x200-0.026/07_27_23h03_55s_SDP-IP-41-49/results.csv')\n",
    "tab4 = pd.read_csv('../results/benchmark/9x200-0.026/07_29_14h20_45s_SDP-IP-4-24/results.csv')\n",
    "tab5 = pd.read_csv('../results/benchmark/9x200-0.026/07_29_14h22_25s_SDP-IP-45-49/results.csv')\n",
    "tab6 = pd.read_csv('../results/benchmark/9x200-0.026/07_29_14h24_35s_SDP-IP-54-74/results.csv')\n",
    "tab7 = pd.read_csv('../results/benchmark/9x200-0.026/07_30_16h23_30s_SDP-IP-84-99/results.csv')\n",
    "tab8 = pd.read_csv('../results/benchmark/9x200-0.026/07_31_10h34_12s_SDP-IP-86-99/results.csv')\n",
    "# tab9 = pd.read_csv('../results/benchmark/MLP-ADV-0.1/07_29_20h07_23s_SDP-Layer-89-99/results.csv')\n",
    "tab = pd.concat([tab1, tab2, tab12, tab3, tab34, tab4, tab5, tab6, tab7, tab8], ignore_index=True)\n",
    "\n",
    "\n",
    "nb_datas = tab[\"data_index\"].nunique()\n",
    "print(\"Number of datas :\", nb_datas)\n",
    "\n",
    "if \"RLT_prop\" not in tab.columns:\n",
    "    tab[\"RLT_prop\"] = 0.\n",
    "if tab[\"target\"].isna().any():\n",
    "    print(\"Addin target\")\n",
    "    tab[\"target\"] = 0.\n",
    "tab[\"certified_target\"] = tab[\"optimal_value\"]>0\n",
    "tab.groupby(\"RLT_prop\")[\"certified_target\"].value_counts()\n",
    "\n",
    "tab.head(), "
   ]
  },
  {
   "cell_type": "code",
   "execution_count": null,
   "id": "108b8839",
   "metadata": {},
   "outputs": [],
   "source": [
    "tab[\"data_index\"].unique()"
   ]
  },
  {
   "cell_type": "code",
   "execution_count": null,
   "id": "0dd52581",
   "metadata": {},
   "outputs": [],
   "source": [
    "tab.groupby(\"data_index\")[\"time\"].sum().mean()"
   ]
  },
  {
   "cell_type": "code",
   "execution_count": null,
   "id": "dedeabf8",
   "metadata": {},
   "outputs": [],
   "source": [
    "# FOR TARGETED CERTIFICATION\n",
    "final_certified_simple = tab.groupby(['data_index', 'target'])['certified_target'].any().reset_index()\n",
    "(final_certified_simple.groupby('data_index')['certified_target'].mean() == 1).sum() / nb_datas\n"
   ]
  },
  {
   "cell_type": "code",
   "execution_count": null,
   "id": "01723a3e",
   "metadata": {},
   "outputs": [],
   "source": [
    "tab_data_index_index = tab.groupby(['data_index', 'target'])['certified_target'].any().reset_index()\n",
    "certified_datas = (tab_data_index_index.groupby(\"data_index\")[\"certified_target\"].mean()==1)\n",
    "certified_datas"
   ]
  },
  {
   "cell_type": "code",
   "execution_count": null,
   "id": "ab1142f3",
   "metadata": {},
   "outputs": [],
   "source": [
    "certified_datas.mean()"
   ]
  },
  {
   "cell_type": "markdown",
   "id": "ab923aa3",
   "metadata": {},
   "source": [
    "## TARGET TO COMPUTE"
   ]
  },
  {
   "cell_type": "code",
   "execution_count": null,
   "id": "7573b81a",
   "metadata": {},
   "outputs": [],
   "source": [
    "tab.groupby([\"data_index\"])[\"target\"].nunique().mean()"
   ]
  },
  {
   "cell_type": "code",
   "execution_count": null,
   "id": "15d6e0c2",
   "metadata": {},
   "outputs": [],
   "source": [
    "print(\"Proportion of verified datas in 6x100-0.015 benchmark :\", certified[certified == 1].count()/nb_datas)"
   ]
  },
  {
   "cell_type": "code",
   "execution_count": null,
   "id": "e45a41cf",
   "metadata": {},
   "outputs": [],
   "source": [
    "print(\"Sans ablation des neurones stables actifs :\")\n",
    "display(tab[tab['USE_STABLE_ACTIVES']][['optimal_value', 'time', 'pretreatment_time', 'Nb_stable_actives', 'Nb_stable_inactives']].mean())\n",
    "\n",
    "\n",
    "print(\"\\n \\n Avec ablation des neurones stables actifs :\")\n",
    "display(tab[~tab['USE_STABLE_ACTIVES']][['optimal_value', 'time', 'pretreatment_time', 'Nb_stable_actives', 'Nb_stable_inactives']].mean())"
   ]
  },
  {
   "cell_type": "code",
   "execution_count": null,
   "id": "74470826",
   "metadata": {},
   "outputs": [],
   "source": []
  },
  {
   "cell_type": "code",
   "execution_count": null,
   "id": "3a658741",
   "metadata": {},
   "outputs": [],
   "source": [
    "# Tableau avec le pourcentage de cibles certifiées robustes par label et data_index de la donnée qui a ce label\n",
    "prop_certified_target = tab.groupby(['label','data_index'])['certified_target'].mean().unstack().T\n",
    "display(prop_certified_target)\n",
    "\n",
    "prop_certified_target[prop_certified_target == 1].count(axis=1).sum()/100"
   ]
  },
  {
   "cell_type": "code",
   "execution_count": null,
   "id": "d439f4d8",
   "metadata": {},
   "outputs": [],
   "source": [
    "tab.groupby(['label','data_index'])[[\"Nb_stable_inactives\"]].mean().unstack().T.mean().mean()"
   ]
  },
  {
   "cell_type": "code",
   "execution_count": null,
   "id": "dd3f101a",
   "metadata": {},
   "outputs": [],
   "source": [
    "tab.groupby('target').mean().sort_values(by='certified_accuracy', ascending=False).head(10)"
   ]
  },
  {
   "cell_type": "code",
   "execution_count": null,
   "id": "2c42b775",
   "metadata": {},
   "outputs": [],
   "source": [
    "350 - (116.8 + 213.5)"
   ]
  },
  {
   "cell_type": "code",
   "execution_count": null,
   "id": "855b48ba",
   "metadata": {},
   "outputs": [],
   "source": [
    "19.7/350"
   ]
  },
  {
   "cell_type": "code",
   "execution_count": null,
   "id": "93b72c86",
   "metadata": {},
   "outputs": [],
   "source": [
    "tab.dtypes"
   ]
  },
  {
   "cell_type": "markdown",
   "id": "1780df0e",
   "metadata": {},
   "source": [
    "# Stable neurons study"
   ]
  },
  {
   "cell_type": "code",
   "execution_count": null,
   "id": "9b62b1ad",
   "metadata": {},
   "outputs": [],
   "source": [
    "stable_actives = pd.read_csv(\"../results/benchmark/MLP-ADV-0.1/07_25_17h52_29s_stability_study/stable_actives_study.csv\")\n",
    "nb_neurons = 350"
   ]
  },
  {
   "cell_type": "code",
   "execution_count": null,
   "id": "9822f3a0",
   "metadata": {},
   "outputs": [],
   "source": [
    "stable_actives"
   ]
  },
  {
   "cell_type": "code",
   "execution_count": null,
   "id": "e1d98c1e",
   "metadata": {},
   "outputs": [],
   "source": [
    "mean_targets = stable_actives[\"Number_targets\"].mean()\n",
    "mean_stable_actives = stable_actives[\"Number_actives_stable\"].mean()\n",
    "mean_stable_inactives = stable_actives[\"Number_inactives_stable\"].mean()\n",
    "\n",
    "print(\"Nombre moyen de cibles :\", mean_targets)\n",
    "\n",
    "print(\"Nombre moyen de neurones stables inactifs :\", mean_stable_inactives, \" ; \", mean_stable_inactives/nb_neurons*100, \"%\")\n",
    "print(\"Nombre moyen de neurones stables actifs :\", mean_stable_actives, \" ; \", mean_stable_actives/nb_neurons*100, \"%\")\n",
    "print(\"Nombre moyen de neurones instables :\", nb_neurons - (mean_stable_actives + mean_stable_inactives), \" ; \", (nb_neurons - (mean_stable_actives + mean_stable_inactives))/nb_neurons*100, \"%\")"
   ]
  },
  {
   "cell_type": "code",
   "execution_count": null,
   "id": "6bc2875b",
   "metadata": {},
   "outputs": [],
   "source": [
    "nb_neurons = 350\n",
    "mean[\"Number_unstable\"] = nb_neurons - (mean[\"Number_actives_stable\"] + mean[\"Number_inactives_stable\"])\n",
    "print(\"With number of neurons\")\n",
    "display(mean)\n",
    "print(\"With percentage of neurons\")\n",
    "display(mean*100/nb_neurons)"
   ]
  },
  {
   "cell_type": "code",
   "execution_count": null,
   "id": "d2ff5699",
   "metadata": {},
   "outputs": [],
   "source": [
    "4879 / nb_neurons"
   ]
  },
  {
   "cell_type": "code",
   "execution_count": null,
   "id": "22316e1a",
   "metadata": {},
   "outputs": [],
   "source": [
    "8*1024"
   ]
  },
  {
   "cell_type": "code",
   "execution_count": null,
   "id": "22402d65",
   "metadata": {},
   "outputs": [],
   "source": []
  }
 ],
 "metadata": {
  "kernelspec": {
   "display_name": "share_envpy311",
   "language": "python",
   "name": "python3"
  },
  "language_info": {
   "codemirror_mode": {
    "name": "ipython",
    "version": 3
   },
   "file_extension": ".py",
   "mimetype": "text/x-python",
   "name": "python",
   "nbconvert_exporter": "python",
   "pygments_lexer": "ipython3",
   "version": "3.11.7"
  }
 },
 "nbformat": 4,
 "nbformat_minor": 5
}
