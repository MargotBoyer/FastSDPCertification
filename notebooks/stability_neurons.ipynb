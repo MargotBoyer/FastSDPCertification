{
 "cells": [
  {
   "cell_type": "markdown",
   "id": "e8e18da2",
   "metadata": {},
   "source": [
    "STability neurons"
   ]
  },
  {
   "cell_type": "code",
   "execution_count": 1,
   "id": "ac6d3e31",
   "metadata": {},
   "outputs": [],
   "source": [
    "import numpy as np \n",
    "import pandas as pd\n",
    "from tools import get_project_path\n",
    "\n",
    "\n",
    "tab = pd.read_csv(get_project_path(\"results/benchmark/9x100-0.026/09_07_12h44_59s_test_prediction_net/results.csv\"))"
   ]
  },
  {
   "cell_type": "code",
   "execution_count": 7,
   "id": "9f40ee36",
   "metadata": {},
   "outputs": [
    {
     "data": {
      "text/plain": [
       "4.032258064516129"
      ]
     },
     "execution_count": 7,
     "metadata": {},
     "output_type": "execute_result"
    }
   ],
   "source": [
    "tab[tab[\"Number_targets\"]!=0][\"Number_targets\"].mean()"
   ]
  },
  {
   "cell_type": "code",
   "execution_count": 2,
   "id": "0d4ca4ed",
   "metadata": {},
   "outputs": [
    {
     "data": {
      "text/plain": [
       "Series([], Name: data_index, dtype: int64)"
      ]
     },
     "execution_count": 2,
     "metadata": {},
     "output_type": "execute_result"
    }
   ],
   "source": [
    "tab[tab[\"label\"]!=tab[\"label_predicted\"]][\"data_index\"]"
   ]
  },
  {
   "cell_type": "code",
   "execution_count": null,
   "id": "237b05f6",
   "metadata": {},
   "outputs": [],
   "source": []
  }
 ],
 "metadata": {
  "kernelspec": {
   "display_name": "share_envpy311",
   "language": "python",
   "name": "python3"
  },
  "language_info": {
   "codemirror_mode": {
    "name": "ipython",
    "version": 3
   },
   "file_extension": ".py",
   "mimetype": "text/x-python",
   "name": "python",
   "nbconvert_exporter": "python",
   "pygments_lexer": "ipython3",
   "version": "3.11.7"
  }
 },
 "nbformat": 4,
 "nbformat_minor": 5
}
