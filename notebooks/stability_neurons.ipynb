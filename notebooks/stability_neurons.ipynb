{
 "cells": [
  {
   "cell_type": "markdown",
   "id": "e8e18da2",
   "metadata": {},
   "source": [
    "STability neurons"
   ]
  },
  {
   "cell_type": "code",
   "execution_count": 13,
   "id": "ac6d3e31",
   "metadata": {},
   "outputs": [],
   "source": [
    "import numpy as np \n",
    "import pandas as pd\n",
    "from tools import get_project_path\n",
    "\n",
    "\n",
    "#tab_IP = pd.read_csv(get_project_path(\"results/benchmark/6x100-0.026/09_06_17h30_05s_SDP-IP/results.csv\"))\n",
    "#tab_IP = tab_IP[~tab_IP[\"data_index\"].isin([56,96,99])]\n",
    "tab = pd.read_csv(get_project_path(\"results/benchmark/6x200-0.015/09_07_17h22_02s_SDPu/results.csv\"))\n"
   ]
  },
  {
   "cell_type": "code",
   "execution_count": 19,
   "id": "035e29d9",
   "metadata": {},
   "outputs": [
    {
     "name": "stdout",
     "output_type": "stream",
     "text": [
      "RLT_prop: [0.  0.1 0.2]\n"
     ]
    }
   ],
   "source": [
    "\n",
    "if \"RLT_prop\" in tab.columns:\n",
    "    tab[\"RLT_prop\"] = tab[\"RLT_prop\"].fillna(0)\n",
    "    RLT_prop = tab[\"RLT_prop\"].unique()\n",
    "    \n",
    "    print(\"RLT_prop:\", RLT_prop)\n",
    "    #RLT_props = [0, 0.1, 0.3, 0.5]\n",
    "    #tab = tab[tab[\"RLT_prop\"].isin(RLT_props)].copy()\n",
    "\n",
    "tab[\"total_time\"] = tab[\"time\"] + tab[\"bound_time\"]\n",
    "tab[\"robust\"] = (tab[\"optimal_value\"] >= 0) | (tab[\"status\"]==\"trivially_solved\")\n",
    "tab[\"target\"] = tab[\"target\"].fillna(\"unknown\")"
   ]
  },
  {
   "cell_type": "code",
   "execution_count": 20,
   "id": "42658ae2",
   "metadata": {},
   "outputs": [
    {
     "data": {
      "text/html": [
       "<div>\n",
       "<style scoped>\n",
       "    .dataframe tbody tr th:only-of-type {\n",
       "        vertical-align: middle;\n",
       "    }\n",
       "\n",
       "    .dataframe tbody tr th {\n",
       "        vertical-align: top;\n",
       "    }\n",
       "\n",
       "    .dataframe thead th {\n",
       "        text-align: right;\n",
       "    }\n",
       "</style>\n",
       "<table border=\"1\" class=\"dataframe\">\n",
       "  <thead>\n",
       "    <tr style=\"text-align: right;\">\n",
       "      <th></th>\n",
       "      <th></th>\n",
       "      <th>LAST_LAYER</th>\n",
       "      <th>MATRIX_BY_LAYERS</th>\n",
       "      <th>McC_betaz_logits</th>\n",
       "      <th>Nb_stable_actives</th>\n",
       "      <th>Nb_stable_inactives</th>\n",
       "      <th>RLT</th>\n",
       "      <th>RLT_prop</th>\n",
       "      <th>Tij</th>\n",
       "      <th>Tij_before_penultimate_layer</th>\n",
       "      <th>USE_STABLE_ACTIVES</th>\n",
       "      <th>...</th>\n",
       "      <th>model</th>\n",
       "      <th>network</th>\n",
       "      <th>optimal_value</th>\n",
       "      <th>pretreatment_time</th>\n",
       "      <th>primal_obj_value</th>\n",
       "      <th>status</th>\n",
       "      <th>time</th>\n",
       "      <th>triangularization</th>\n",
       "      <th>total_time</th>\n",
       "      <th>robust</th>\n",
       "    </tr>\n",
       "    <tr>\n",
       "      <th>data_index</th>\n",
       "      <th>target</th>\n",
       "      <th></th>\n",
       "      <th></th>\n",
       "      <th></th>\n",
       "      <th></th>\n",
       "      <th></th>\n",
       "      <th></th>\n",
       "      <th></th>\n",
       "      <th></th>\n",
       "      <th></th>\n",
       "      <th></th>\n",
       "      <th></th>\n",
       "      <th></th>\n",
       "      <th></th>\n",
       "      <th></th>\n",
       "      <th></th>\n",
       "      <th></th>\n",
       "      <th></th>\n",
       "      <th></th>\n",
       "      <th></th>\n",
       "      <th></th>\n",
       "      <th></th>\n",
       "    </tr>\n",
       "  </thead>\n",
       "  <tbody>\n",
       "    <tr>\n",
       "      <th>0</th>\n",
       "      <th>unknown</th>\n",
       "      <td>1</td>\n",
       "      <td>1</td>\n",
       "      <td>0</td>\n",
       "      <td>1</td>\n",
       "      <td>1</td>\n",
       "      <td>0</td>\n",
       "      <td>1</td>\n",
       "      <td>0</td>\n",
       "      <td>0</td>\n",
       "      <td>1</td>\n",
       "      <td>...</td>\n",
       "      <td>1</td>\n",
       "      <td>1</td>\n",
       "      <td>0</td>\n",
       "      <td>1</td>\n",
       "      <td>0</td>\n",
       "      <td>1</td>\n",
       "      <td>1</td>\n",
       "      <td>0</td>\n",
       "      <td>1</td>\n",
       "      <td>1</td>\n",
       "    </tr>\n",
       "    <tr>\n",
       "      <th>1</th>\n",
       "      <th>unknown</th>\n",
       "      <td>1</td>\n",
       "      <td>1</td>\n",
       "      <td>0</td>\n",
       "      <td>1</td>\n",
       "      <td>1</td>\n",
       "      <td>0</td>\n",
       "      <td>1</td>\n",
       "      <td>0</td>\n",
       "      <td>0</td>\n",
       "      <td>1</td>\n",
       "      <td>...</td>\n",
       "      <td>1</td>\n",
       "      <td>1</td>\n",
       "      <td>0</td>\n",
       "      <td>1</td>\n",
       "      <td>0</td>\n",
       "      <td>1</td>\n",
       "      <td>1</td>\n",
       "      <td>0</td>\n",
       "      <td>1</td>\n",
       "      <td>1</td>\n",
       "    </tr>\n",
       "    <tr>\n",
       "      <th>2</th>\n",
       "      <th>unknown</th>\n",
       "      <td>1</td>\n",
       "      <td>1</td>\n",
       "      <td>0</td>\n",
       "      <td>1</td>\n",
       "      <td>1</td>\n",
       "      <td>0</td>\n",
       "      <td>1</td>\n",
       "      <td>0</td>\n",
       "      <td>0</td>\n",
       "      <td>1</td>\n",
       "      <td>...</td>\n",
       "      <td>1</td>\n",
       "      <td>1</td>\n",
       "      <td>0</td>\n",
       "      <td>1</td>\n",
       "      <td>0</td>\n",
       "      <td>1</td>\n",
       "      <td>1</td>\n",
       "      <td>0</td>\n",
       "      <td>1</td>\n",
       "      <td>1</td>\n",
       "    </tr>\n",
       "    <tr>\n",
       "      <th>3</th>\n",
       "      <th>unknown</th>\n",
       "      <td>1</td>\n",
       "      <td>1</td>\n",
       "      <td>0</td>\n",
       "      <td>1</td>\n",
       "      <td>1</td>\n",
       "      <td>0</td>\n",
       "      <td>1</td>\n",
       "      <td>0</td>\n",
       "      <td>0</td>\n",
       "      <td>1</td>\n",
       "      <td>...</td>\n",
       "      <td>1</td>\n",
       "      <td>1</td>\n",
       "      <td>0</td>\n",
       "      <td>1</td>\n",
       "      <td>0</td>\n",
       "      <td>1</td>\n",
       "      <td>1</td>\n",
       "      <td>0</td>\n",
       "      <td>1</td>\n",
       "      <td>1</td>\n",
       "    </tr>\n",
       "    <tr>\n",
       "      <th>4</th>\n",
       "      <th>unknown</th>\n",
       "      <td>1</td>\n",
       "      <td>1</td>\n",
       "      <td>0</td>\n",
       "      <td>1</td>\n",
       "      <td>1</td>\n",
       "      <td>0</td>\n",
       "      <td>1</td>\n",
       "      <td>0</td>\n",
       "      <td>0</td>\n",
       "      <td>1</td>\n",
       "      <td>...</td>\n",
       "      <td>1</td>\n",
       "      <td>1</td>\n",
       "      <td>0</td>\n",
       "      <td>1</td>\n",
       "      <td>0</td>\n",
       "      <td>1</td>\n",
       "      <td>1</td>\n",
       "      <td>0</td>\n",
       "      <td>1</td>\n",
       "      <td>1</td>\n",
       "    </tr>\n",
       "    <tr>\n",
       "      <th>...</th>\n",
       "      <th>...</th>\n",
       "      <td>...</td>\n",
       "      <td>...</td>\n",
       "      <td>...</td>\n",
       "      <td>...</td>\n",
       "      <td>...</td>\n",
       "      <td>...</td>\n",
       "      <td>...</td>\n",
       "      <td>...</td>\n",
       "      <td>...</td>\n",
       "      <td>...</td>\n",
       "      <td>...</td>\n",
       "      <td>...</td>\n",
       "      <td>...</td>\n",
       "      <td>...</td>\n",
       "      <td>...</td>\n",
       "      <td>...</td>\n",
       "      <td>...</td>\n",
       "      <td>...</td>\n",
       "      <td>...</td>\n",
       "      <td>...</td>\n",
       "      <td>...</td>\n",
       "    </tr>\n",
       "    <tr>\n",
       "      <th>95</th>\n",
       "      <th>unknown</th>\n",
       "      <td>2</td>\n",
       "      <td>2</td>\n",
       "      <td>2</td>\n",
       "      <td>2</td>\n",
       "      <td>2</td>\n",
       "      <td>2</td>\n",
       "      <td>2</td>\n",
       "      <td>2</td>\n",
       "      <td>2</td>\n",
       "      <td>2</td>\n",
       "      <td>...</td>\n",
       "      <td>2</td>\n",
       "      <td>2</td>\n",
       "      <td>2</td>\n",
       "      <td>2</td>\n",
       "      <td>2</td>\n",
       "      <td>2</td>\n",
       "      <td>2</td>\n",
       "      <td>2</td>\n",
       "      <td>2</td>\n",
       "      <td>2</td>\n",
       "    </tr>\n",
       "    <tr>\n",
       "      <th>96</th>\n",
       "      <th>unknown</th>\n",
       "      <td>2</td>\n",
       "      <td>2</td>\n",
       "      <td>2</td>\n",
       "      <td>2</td>\n",
       "      <td>2</td>\n",
       "      <td>2</td>\n",
       "      <td>2</td>\n",
       "      <td>2</td>\n",
       "      <td>2</td>\n",
       "      <td>2</td>\n",
       "      <td>...</td>\n",
       "      <td>2</td>\n",
       "      <td>2</td>\n",
       "      <td>2</td>\n",
       "      <td>2</td>\n",
       "      <td>2</td>\n",
       "      <td>2</td>\n",
       "      <td>2</td>\n",
       "      <td>2</td>\n",
       "      <td>2</td>\n",
       "      <td>2</td>\n",
       "    </tr>\n",
       "    <tr>\n",
       "      <th>97</th>\n",
       "      <th>unknown</th>\n",
       "      <td>2</td>\n",
       "      <td>2</td>\n",
       "      <td>2</td>\n",
       "      <td>2</td>\n",
       "      <td>2</td>\n",
       "      <td>2</td>\n",
       "      <td>2</td>\n",
       "      <td>2</td>\n",
       "      <td>2</td>\n",
       "      <td>2</td>\n",
       "      <td>...</td>\n",
       "      <td>2</td>\n",
       "      <td>2</td>\n",
       "      <td>2</td>\n",
       "      <td>2</td>\n",
       "      <td>2</td>\n",
       "      <td>2</td>\n",
       "      <td>2</td>\n",
       "      <td>2</td>\n",
       "      <td>2</td>\n",
       "      <td>2</td>\n",
       "    </tr>\n",
       "    <tr>\n",
       "      <th>98</th>\n",
       "      <th>unknown</th>\n",
       "      <td>2</td>\n",
       "      <td>2</td>\n",
       "      <td>2</td>\n",
       "      <td>2</td>\n",
       "      <td>2</td>\n",
       "      <td>2</td>\n",
       "      <td>2</td>\n",
       "      <td>2</td>\n",
       "      <td>2</td>\n",
       "      <td>2</td>\n",
       "      <td>...</td>\n",
       "      <td>2</td>\n",
       "      <td>2</td>\n",
       "      <td>2</td>\n",
       "      <td>2</td>\n",
       "      <td>2</td>\n",
       "      <td>2</td>\n",
       "      <td>2</td>\n",
       "      <td>2</td>\n",
       "      <td>2</td>\n",
       "      <td>2</td>\n",
       "    </tr>\n",
       "    <tr>\n",
       "      <th>99</th>\n",
       "      <th>unknown</th>\n",
       "      <td>1</td>\n",
       "      <td>1</td>\n",
       "      <td>0</td>\n",
       "      <td>1</td>\n",
       "      <td>1</td>\n",
       "      <td>0</td>\n",
       "      <td>1</td>\n",
       "      <td>0</td>\n",
       "      <td>0</td>\n",
       "      <td>1</td>\n",
       "      <td>...</td>\n",
       "      <td>1</td>\n",
       "      <td>1</td>\n",
       "      <td>0</td>\n",
       "      <td>1</td>\n",
       "      <td>0</td>\n",
       "      <td>1</td>\n",
       "      <td>1</td>\n",
       "      <td>0</td>\n",
       "      <td>1</td>\n",
       "      <td>1</td>\n",
       "    </tr>\n",
       "  </tbody>\n",
       "</table>\n",
       "<p>100 rows × 30 columns</p>\n",
       "</div>"
      ],
      "text/plain": [
       "                    LAST_LAYER  MATRIX_BY_LAYERS  McC_betaz_logits  \\\n",
       "data_index target                                                    \n",
       "0          unknown           1                 1                 0   \n",
       "1          unknown           1                 1                 0   \n",
       "2          unknown           1                 1                 0   \n",
       "3          unknown           1                 1                 0   \n",
       "4          unknown           1                 1                 0   \n",
       "...                        ...               ...               ...   \n",
       "95         unknown           2                 2                 2   \n",
       "96         unknown           2                 2                 2   \n",
       "97         unknown           2                 2                 2   \n",
       "98         unknown           2                 2                 2   \n",
       "99         unknown           1                 1                 0   \n",
       "\n",
       "                    Nb_stable_actives  Nb_stable_inactives  RLT  RLT_prop  \\\n",
       "data_index target                                                           \n",
       "0          unknown                  1                    1    0         1   \n",
       "1          unknown                  1                    1    0         1   \n",
       "2          unknown                  1                    1    0         1   \n",
       "3          unknown                  1                    1    0         1   \n",
       "4          unknown                  1                    1    0         1   \n",
       "...                               ...                  ...  ...       ...   \n",
       "95         unknown                  2                    2    2         2   \n",
       "96         unknown                  2                    2    2         2   \n",
       "97         unknown                  2                    2    2         2   \n",
       "98         unknown                  2                    2    2         2   \n",
       "99         unknown                  1                    1    0         1   \n",
       "\n",
       "                    Tij  Tij_before_penultimate_layer  USE_STABLE_ACTIVES  \\\n",
       "data_index target                                                           \n",
       "0          unknown    0                             0                   1   \n",
       "1          unknown    0                             0                   1   \n",
       "2          unknown    0                             0                   1   \n",
       "3          unknown    0                             0                   1   \n",
       "4          unknown    0                             0                   1   \n",
       "...                 ...                           ...                 ...   \n",
       "95         unknown    2                             2                   2   \n",
       "96         unknown    2                             2                   2   \n",
       "97         unknown    2                             2                   2   \n",
       "98         unknown    2                             2                   2   \n",
       "99         unknown    0                             0                   1   \n",
       "\n",
       "                    ...  model  network  optimal_value  pretreatment_time  \\\n",
       "data_index target   ...                                                     \n",
       "0          unknown  ...      1        1              0                  1   \n",
       "1          unknown  ...      1        1              0                  1   \n",
       "2          unknown  ...      1        1              0                  1   \n",
       "3          unknown  ...      1        1              0                  1   \n",
       "4          unknown  ...      1        1              0                  1   \n",
       "...                 ...    ...      ...            ...                ...   \n",
       "95         unknown  ...      2        2              2                  2   \n",
       "96         unknown  ...      2        2              2                  2   \n",
       "97         unknown  ...      2        2              2                  2   \n",
       "98         unknown  ...      2        2              2                  2   \n",
       "99         unknown  ...      1        1              0                  1   \n",
       "\n",
       "                    primal_obj_value  status  time  triangularization  \\\n",
       "data_index target                                                       \n",
       "0          unknown                 0       1     1                  0   \n",
       "1          unknown                 0       1     1                  0   \n",
       "2          unknown                 0       1     1                  0   \n",
       "3          unknown                 0       1     1                  0   \n",
       "4          unknown                 0       1     1                  0   \n",
       "...                              ...     ...   ...                ...   \n",
       "95         unknown                 2       2     2                  2   \n",
       "96         unknown                 2       2     2                  2   \n",
       "97         unknown                 2       2     2                  2   \n",
       "98         unknown                 2       2     2                  2   \n",
       "99         unknown                 0       1     1                  0   \n",
       "\n",
       "                    total_time  robust  \n",
       "data_index target                       \n",
       "0          unknown           1       1  \n",
       "1          unknown           1       1  \n",
       "2          unknown           1       1  \n",
       "3          unknown           1       1  \n",
       "4          unknown           1       1  \n",
       "...                        ...     ...  \n",
       "95         unknown           2       2  \n",
       "96         unknown           2       2  \n",
       "97         unknown           2       2  \n",
       "98         unknown           2       2  \n",
       "99         unknown           1       1  \n",
       "\n",
       "[100 rows x 30 columns]"
      ]
     },
     "execution_count": 20,
     "metadata": {},
     "output_type": "execute_result"
    }
   ],
   "source": [
    "tab.groupby([\"data_index\", \"target\"]).count()"
   ]
  },
  {
   "cell_type": "code",
   "execution_count": 21,
   "id": "1e45b20a",
   "metadata": {},
   "outputs": [
    {
     "data": {
      "text/plain": [
       "data_index\n",
       "0      True\n",
       "1      True\n",
       "2      True\n",
       "3      True\n",
       "4      True\n",
       "      ...  \n",
       "95     True\n",
       "96     True\n",
       "97    False\n",
       "98     True\n",
       "99     True\n",
       "Name: robust, Length: 100, dtype: bool"
      ]
     },
     "execution_count": 21,
     "metadata": {},
     "output_type": "execute_result"
    }
   ],
   "source": [
    "\n",
    "robust_mean_data_index = tab.groupby([\"data_index\", \"target\"])[\"robust\"].any()\n",
    "#(robust_mean_data_index == 1).sum()\n",
    "rob = robust_mean_data_index.reset_index().groupby(\"data_index\")[\"robust\"].all()\n",
    "rob"
   ]
  },
  {
   "cell_type": "code",
   "execution_count": 22,
   "id": "9541b413",
   "metadata": {},
   "outputs": [
    {
     "data": {
      "text/plain": [
       "91"
      ]
     },
     "execution_count": 22,
     "metadata": {},
     "output_type": "execute_result"
    }
   ],
   "source": [
    "rob.sum(\n",
    ")"
   ]
  },
  {
   "cell_type": "code",
   "execution_count": 35,
   "id": "59af4052",
   "metadata": {},
   "outputs": [
    {
     "data": {
      "text/plain": [
       "6.727071285247803"
      ]
     },
     "execution_count": 35,
     "metadata": {},
     "output_type": "execute_result"
    }
   ],
   "source": [
    "tab[tab[\"status\"]==\"trivially_solved\"].groupby(\"data_index\")[\"total_time\"].sum().max()"
   ]
  },
  {
   "cell_type": "code",
   "execution_count": 36,
   "id": "28487e2b",
   "metadata": {},
   "outputs": [
    {
     "data": {
      "text/plain": [
       "2298.304834127426"
      ]
     },
     "execution_count": 36,
     "metadata": {},
     "output_type": "execute_result"
    }
   ],
   "source": [
    "tab[tab[\"status\"]!=\"trivially_solved\"].groupby(\"data_index\")[\"total_time\"].sum().max()"
   ]
  },
  {
   "cell_type": "code",
   "execution_count": 37,
   "id": "57d114f5",
   "metadata": {},
   "outputs": [
    {
     "data": {
      "text/plain": [
       "1788.5611459480392"
      ]
     },
     "execution_count": 37,
     "metadata": {},
     "output_type": "execute_result"
    }
   ],
   "source": [
    "time_data_index = tab[tab[\"status\"]!=\"trivially_solved\"][\"total_time\"].groupby(tab[\"data_index\"]).sum()\n",
    "time_data_index.mean()"
   ]
  },
  {
   "cell_type": "code",
   "execution_count": 38,
   "id": "8de826ef",
   "metadata": {},
   "outputs": [
    {
     "data": {
      "text/plain": [
       "<Axes: >"
      ]
     },
     "execution_count": 38,
     "metadata": {},
     "output_type": "execute_result"
    },
    {
     "data": {
      "image/png": "[encoded data removed]",
      "text/plain": [
       "<Figure size 640x480 with 1 Axes>"
      ]
     },
     "metadata": {},
     "output_type": "display_data"
    }
   ],
   "source": [
    "time_data_index.hist(bins=10)"
   ]
  },
  {
   "cell_type": "code",
   "execution_count": 21,
   "id": "9f40ee36",
   "metadata": {},
   "outputs": [
    {
     "ename": "KeyError",
     "evalue": "'Number_targets'",
     "output_type": "error",
     "traceback": [
      "\u001b[0;31m---------------------------------------------------------------------------\u001b[0m",
      "\u001b[0;31mKeyError\u001b[0m                                  Traceback (most recent call last)",
      "File \u001b[0;32m~/share/homes/boyerma/miniconda3/envs/share_envpy311/lib/python3.11/site-packages/pandas/core/indexes/base.py:3805\u001b[0m, in \u001b[0;36mIndex.get_loc\u001b[0;34m(self, key)\u001b[0m\n\u001b[1;32m   3804\u001b[0m \u001b[38;5;28;01mtry\u001b[39;00m:\n\u001b[0;32m-> 3805\u001b[0m     \u001b[38;5;28;01mreturn\u001b[39;00m \u001b[38;5;28;43mself\u001b[39;49m\u001b[38;5;241;43m.\u001b[39;49m\u001b[43m_engine\u001b[49m\u001b[38;5;241;43m.\u001b[39;49m\u001b[43mget_loc\u001b[49m\u001b[43m(\u001b[49m\u001b[43mcasted_key\u001b[49m\u001b[43m)\u001b[49m\n\u001b[1;32m   3806\u001b[0m \u001b[38;5;28;01mexcept\u001b[39;00m \u001b[38;5;167;01mKeyError\u001b[39;00m \u001b[38;5;28;01mas\u001b[39;00m err:\n",
      "File \u001b[0;32mindex.pyx:167\u001b[0m, in \u001b[0;36mpandas._libs.index.IndexEngine.get_loc\u001b[0;34m()\u001b[0m\n",
      "File \u001b[0;32mindex.pyx:196\u001b[0m, in \u001b[0;36mpandas._libs.index.IndexEngine.get_loc\u001b[0;34m()\u001b[0m\n",
      "File \u001b[0;32mpandas/_libs/hashtable_class_helper.pxi:7081\u001b[0m, in \u001b[0;36mpandas._libs.hashtable.PyObjectHashTable.get_item\u001b[0;34m()\u001b[0m\n",
      "File \u001b[0;32mpandas/_libs/hashtable_class_helper.pxi:7089\u001b[0m, in \u001b[0;36mpandas._libs.hashtable.PyObjectHashTable.get_item\u001b[0;34m()\u001b[0m\n",
      "\u001b[0;31mKeyError\u001b[0m: 'Number_targets'",
      "\nThe above exception was the direct cause of the following exception:\n",
      "\u001b[0;31mKeyError\u001b[0m                                  Traceback (most recent call last)",
      "Cell \u001b[0;32mIn[21], line 1\u001b[0m\n\u001b[0;32m----> 1\u001b[0m tab[\u001b[43mtab\u001b[49m\u001b[43m[\u001b[49m\u001b[38;5;124;43m\"\u001b[39;49m\u001b[38;5;124;43mNumber_targets\u001b[39;49m\u001b[38;5;124;43m\"\u001b[39;49m\u001b[43m]\u001b[49m\u001b[38;5;241m!=\u001b[39m\u001b[38;5;241m0\u001b[39m][\u001b[38;5;124m\"\u001b[39m\u001b[38;5;124mNumber_targets\u001b[39m\u001b[38;5;124m\"\u001b[39m]\u001b[38;5;241m.\u001b[39mmean()\n",
      "File \u001b[0;32m~/share/homes/boyerma/miniconda3/envs/share_envpy311/lib/python3.11/site-packages/pandas/core/frame.py:4102\u001b[0m, in \u001b[0;36mDataFrame.__getitem__\u001b[0;34m(self, key)\u001b[0m\n\u001b[1;32m   4100\u001b[0m \u001b[38;5;28;01mif\u001b[39;00m \u001b[38;5;28mself\u001b[39m\u001b[38;5;241m.\u001b[39mcolumns\u001b[38;5;241m.\u001b[39mnlevels \u001b[38;5;241m>\u001b[39m \u001b[38;5;241m1\u001b[39m:\n\u001b[1;32m   4101\u001b[0m     \u001b[38;5;28;01mreturn\u001b[39;00m \u001b[38;5;28mself\u001b[39m\u001b[38;5;241m.\u001b[39m_getitem_multilevel(key)\n\u001b[0;32m-> 4102\u001b[0m indexer \u001b[38;5;241m=\u001b[39m \u001b[38;5;28;43mself\u001b[39;49m\u001b[38;5;241;43m.\u001b[39;49m\u001b[43mcolumns\u001b[49m\u001b[38;5;241;43m.\u001b[39;49m\u001b[43mget_loc\u001b[49m\u001b[43m(\u001b[49m\u001b[43mkey\u001b[49m\u001b[43m)\u001b[49m\n\u001b[1;32m   4103\u001b[0m \u001b[38;5;28;01mif\u001b[39;00m is_integer(indexer):\n\u001b[1;32m   4104\u001b[0m     indexer \u001b[38;5;241m=\u001b[39m [indexer]\n",
      "File \u001b[0;32m~/share/homes/boyerma/miniconda3/envs/share_envpy311/lib/python3.11/site-packages/pandas/core/indexes/base.py:3812\u001b[0m, in \u001b[0;36mIndex.get_loc\u001b[0;34m(self, key)\u001b[0m\n\u001b[1;32m   3807\u001b[0m     \u001b[38;5;28;01mif\u001b[39;00m \u001b[38;5;28misinstance\u001b[39m(casted_key, \u001b[38;5;28mslice\u001b[39m) \u001b[38;5;129;01mor\u001b[39;00m (\n\u001b[1;32m   3808\u001b[0m         \u001b[38;5;28misinstance\u001b[39m(casted_key, abc\u001b[38;5;241m.\u001b[39mIterable)\n\u001b[1;32m   3809\u001b[0m         \u001b[38;5;129;01mand\u001b[39;00m \u001b[38;5;28many\u001b[39m(\u001b[38;5;28misinstance\u001b[39m(x, \u001b[38;5;28mslice\u001b[39m) \u001b[38;5;28;01mfor\u001b[39;00m x \u001b[38;5;129;01min\u001b[39;00m casted_key)\n\u001b[1;32m   3810\u001b[0m     ):\n\u001b[1;32m   3811\u001b[0m         \u001b[38;5;28;01mraise\u001b[39;00m InvalidIndexError(key)\n\u001b[0;32m-> 3812\u001b[0m     \u001b[38;5;28;01mraise\u001b[39;00m \u001b[38;5;167;01mKeyError\u001b[39;00m(key) \u001b[38;5;28;01mfrom\u001b[39;00m \u001b[38;5;21;01merr\u001b[39;00m\n\u001b[1;32m   3813\u001b[0m \u001b[38;5;28;01mexcept\u001b[39;00m \u001b[38;5;167;01mTypeError\u001b[39;00m:\n\u001b[1;32m   3814\u001b[0m     \u001b[38;5;66;03m# If we have a listlike key, _check_indexing_error will raise\u001b[39;00m\n\u001b[1;32m   3815\u001b[0m     \u001b[38;5;66;03m#  InvalidIndexError. Otherwise we fall through and re-raise\u001b[39;00m\n\u001b[1;32m   3816\u001b[0m     \u001b[38;5;66;03m#  the TypeError.\u001b[39;00m\n\u001b[1;32m   3817\u001b[0m     \u001b[38;5;28mself\u001b[39m\u001b[38;5;241m.\u001b[39m_check_indexing_error(key)\n",
      "\u001b[0;31mKeyError\u001b[0m: 'Number_targets'"
     ]
    }
   ],
   "source": [
    "tab[tab[\"Number_targets\"]!=0][\"Number_targets\"].mean()"
   ]
  },
  {
   "cell_type": "code",
   "execution_count": null,
   "id": "0d4ca4ed",
   "metadata": {},
   "outputs": [],
   "source": [
    "tab[tab[\"label\"]!=tab[\"label_predicted\"]][\"data_index\"]"
   ]
  },
  {
   "cell_type": "code",
   "execution_count": null,
   "id": "237b05f6",
   "metadata": {},
   "outputs": [],
   "source": [
    "tab[\"bound_time\"].mean()"
   ]
  },
  {
   "cell_type": "code",
   "execution_count": null,
   "id": "9ce1de5e",
   "metadata": {},
   "outputs": [],
   "source": [
    "tab[tab[\"status\"]==\"trivially_solved\"]"
   ]
  },
  {
   "cell_type": "code",
   "execution_count": null,
   "id": "188b68a7",
   "metadata": {},
   "outputs": [],
   "source": []
  },
  {
   "cell_type": "markdown",
   "id": "12d55648",
   "metadata": {},
   "source": [
    "## LP"
   ]
  },
  {
   "cell_type": "markdown",
   "id": "48048785",
   "metadata": {},
   "source": [
    "\n",
    "tab = pd.read_csv(get_project_path(\"results/benchmark/6x100-0.026/09_06_17h30_05s_SDP-IP/results.csv\"))"
   ]
  }
 ],
 "metadata": {
  "kernelspec": {
   "display_name": "share_envpy311",
   "language": "python",
   "name": "python3"
  },
  "language_info": {
   "codemirror_mode": {
    "name": "ipython",
    "version": 3
   },
   "file_extension": ".py",
   "mimetype": "text/x-python",
   "name": "python",
   "nbconvert_exporter": "python",
   "pygments_lexer": "ipython3",
   "version": "3.11.7"
  }
 },
 "nbformat": 4,
 "nbformat_minor": 5
}
